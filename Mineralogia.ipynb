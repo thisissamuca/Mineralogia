{
  "nbformat": 4,
  "nbformat_minor": 0,
  "metadata": {
    "colab": {
      "name": "Mineralogia.ipynb",
      "provenance": [],
      "authorship_tag": "ABX9TyO1gjvKoSQrrkv37q3oTltZ",
      "include_colab_link": true
    },
    "kernelspec": {
      "name": "python3",
      "display_name": "Python 3"
    },
    "language_info": {
      "name": "python"
    }
  },
  "cells": [
    {
      "cell_type": "markdown",
      "metadata": {
        "id": "view-in-github",
        "colab_type": "text"
      },
      "source": [
        "<a href=\"https://colab.research.google.com/github/thisissamuca/Mineralogia/blob/main/Mineralogia.ipynb\" target=\"_parent\"><img src=\"https://colab.research.google.com/assets/colab-badge.svg\" alt=\"Open In Colab\"/></a>"
      ]
    },
    {
      "cell_type": "markdown",
      "source": [
        "# **Importando bibliotecas e criando arrays**"
      ],
      "metadata": {
        "id": "N1lCkxIdmKVQ"
      }
    },
    {
      "cell_type": "code",
      "execution_count": 199,
      "metadata": {
        "id": "7voOFUzOMytD"
      },
      "outputs": [],
      "source": [
        "grupo = []\n",
        "classe = []\n",
        "subgrupo = []"
      ]
    },
    {
      "cell_type": "markdown",
      "source": [
        "# **Criando dicionários para os minerais:**"
      ],
      "metadata": {
        "id": "ur1icVUBcmFF"
      }
    },
    {
      "cell_type": "code",
      "source": [
        "# Calcita\n",
        "calcita = [('Calcita', [0,3]), ('Calcita', [0,2])]\n",
        "\n",
        "# hematita\n",
        "hematita = [('Hematita', [1])]\n",
        "\n",
        "# gipsita\n",
        "gipsita = [('Gipsita', [0,3]), ('Gipsita', [0,1])]\n",
        "\n",
        "# granada\n",
        "granada = [('Granada', [0,3]), ('Granada', [0,2])]\n",
        "\n",
        "# galena\n",
        "galena = [('Galena', [1])]\n",
        "\n",
        "# halita\n",
        "halita = [('Galita', [0,1])]\n",
        "\n",
        "# albita\n",
        "albita = [('Albita', [0,2]), ('Albita', [0,1])]\n",
        "\n",
        "# apatita\n",
        "apatita = [('Apatita', [0,2]), ('Apatita', [0,1])]\n",
        "\n",
        "# turmalina\n",
        "turmalina = [('Turmalina', [0,2]), ('Turmalina', [0,1])]\n",
        "\n",
        "# barita\n",
        "barita = [('Barita', [0,3]), ('Barita', [0,2]), ('Barita', [0,1])]\n",
        "\n",
        "# cobre\n",
        "cobre = [('Cobre', [1])]\n",
        "\n",
        "# prata\n",
        "prata = [('Prata', [1])]\n",
        "\n",
        "# epidoto\n",
        "epidoto = [('Epidoto', [0,3]), ('Epidoto', [0,2]), ('Epidoto', [0,1])]\n",
        "\n",
        "# goethita\n",
        "goethita = [('Goethita', [0,5]), ('Goethita', [0,3]), ('Goethita', [0,2]), ('Goethita', [1])]\n",
        "\n",
        "# magnetita\n",
        "magnetita = [('Magnetita', [1])]\n",
        "\n",
        "# mica\n",
        "mica = [('Mica', [0,3]), ('Mica', [0,2])]\n",
        "\n",
        "# ouro\n",
        "ouro = [('Ouro', [1])]\n",
        "\n",
        "# pirita\n",
        "pirita = [('Pirita', [1])]\n",
        "\n",
        "# quartzo\n",
        "quartzo = [('Quartzo', [0,2])]\n",
        "\n",
        "# serpentina\n",
        "serpentina = [('Serpentina', [0,0]), ('Serpentina', [0,4])]\n",
        "\n",
        "# siderita\n",
        "siderita = [('Siderita', [0,3]), ('Siderita', [0,2]), ('Siderita', [0,1])]\n",
        "\n",
        "# talco\n",
        "talco = [('Talco', [0,4])]\n",
        "\n",
        "# array com todos os minerais\n",
        "minerais = [calcita,hematita,gipsita,granada,galena,halita,albita,apatita,turmalina,barita,cobre,prata,epidoto,goethita,magnetita,mica,ouro,pirita,quartzo,serpentina,siderita,talco]\n"
      ],
      "metadata": {
        "id": "BNhcmufRmVbN"
      },
      "execution_count": 200,
      "outputs": []
    },
    {
      "cell_type": "markdown",
      "source": [
        "# **Selecionando características específicas dos minerais:**"
      ],
      "metadata": {
        "id": "1FinsbCCc8y8"
      }
    },
    {
      "cell_type": "code",
      "source": [
        "minerais_name = [calcita[0][0], calcita[1][0],  hematita[0][0],  gipsita[0][0],    gipsita[1][0],   talco[0][0],\n",
        "                granada[0][0],  granada[1][0],  galena[0][0],    halita[0][0],     albita[0][0],    albita[1][0],\n",
        "                apatita[0][0],  apatita[1][0],  turmalina[0][0], turmalina[1][0],  barita[0][0],    barita[1][0], \n",
        "                barita[2][0],   cobre[0][0],    prata[0][0],     epidoto[0][0],    epidoto[1][0],   epidoto[2][0],\n",
        "                goethita[0][0], goethita[1][0], goethita[2][0],  goethita[3][0],   magnetita[0][0], mica[0][0], \n",
        "                ouro[0][0],     pirita[0][0],   quartzo[0][0],   serpentina[0][0], serpentina[1][0], \n",
        "                siderita[0][0], siderita[1][0], siderita[2][0]]\n",
        "\n",
        "minerais_props = [calcita[0][1],  calcita[1][1],  hematita[0][1],  gipsita[0][1],    gipsita[1][1],   talco[0][1],\n",
        "                  granada[0][1],  granada[1][1],  galena[0][1],    halita[0][1],     albita[0][1],    albita[1][1], \n",
        "                  apatita[0][1],  apatita[1][1],  turmalina[0][1], turmalina[1][1],  barita[0][1],    barita[1][1], \n",
        "                  barita[2][1],   cobre[0][1],    prata[0][1],     epidoto[0][1],    epidoto[1][1],   epidoto[2][1],\n",
        "                  goethita[0][1], goethita[1][1], goethita[2][1],  goethita[3][1],   magnetita[0][1], mica[0][1], \n",
        "                  ouro[0][1],     pirita[0][1],   quartzo[0][1],   serpentina[0][1], serpentina[1][1],\n",
        "                  siderita[0][1], siderita[1][1], siderita[2][1]]"
      ],
      "metadata": {
        "id": "057Wmi_emb20"
      },
      "execution_count": 201,
      "outputs": []
    },
    {
      "cell_type": "markdown",
      "source": [
        "# **Criando a \"Amostra\" para ser analisada:**"
      ],
      "metadata": {
        "id": "LCB99p3ZdMpE"
      }
    },
    {
      "cell_type": "code",
      "source": [
        "amostra = []\n",
        "amostra.clear()"
      ],
      "metadata": {
        "id": "dbf3R9CGccGi"
      },
      "execution_count": 295,
      "outputs": []
    },
    {
      "cell_type": "markdown",
      "source": [
        "# **Definindo brilho metálico ou não-metálico:**"
      ],
      "metadata": {
        "id": "zQfraPnRpmth"
      }
    },
    {
      "cell_type": "code",
      "source": [
        "brilho = int(input('O mineral possui brilho metálico? \\n 0 - Não \\n 1 - Sim \\n 2 - Não tenho certeza \\n'))"
      ],
      "metadata": {
        "colab": {
          "base_uri": "https://localhost:8080/"
        },
        "id": "bYodr2DDplYS",
        "outputId": "61103743-22ee-4c2b-c779-56cfb48ffa61"
      },
      "execution_count": 296,
      "outputs": [
        {
          "name": "stdout",
          "output_type": "stream",
          "text": [
            "O mineral possui brilho metálico? \n",
            " 0 - Não \n",
            " 1 - Sim \n",
            " 2 - Não tenho certeza \n",
            "0\n"
          ]
        }
      ]
    },
    {
      "cell_type": "markdown",
      "source": [
        "# **Tipo de brilho (caso seja não-metálico)**"
      ],
      "metadata": {
        "id": "H-_OxJxmXbOI"
      }
    },
    {
      "cell_type": "code",
      "source": [
        "if brilho == 0:\n",
        "  amostra.append(0)\n",
        "  brilho02 = int(input('Qual o brilho do mineral? \\n 0 - Sedoso \\n 1 - Vítreo \\n 2 - Resinoso \\n 3 - Nacarado \\n 4 - Gorduroso \\n 5 - Terroso \\n 6 - Não tenho certeza \\n'))\n",
        "\n",
        "if brilho == 1:\n",
        "  amostra.append(1)\n",
        "  brilho02 = int(input('Qual o brilho do mineral? \\n 0 - Sedoso \\n 1 - Vítreo \\n 2 - Resinoso \\n 3 - Nacarado \\n 4 - Gorduroso \\n 5 - Terroso \\n 6 - Não tenho certeza \\n'))\n",
        "\n",
        "amostra"
      ],
      "metadata": {
        "colab": {
          "base_uri": "https://localhost:8080/"
        },
        "id": "ZXzJXjVhmIr-",
        "outputId": "76f3ca58-7bcd-42b8-e5fe-55e8ddfd0fa7"
      },
      "execution_count": 297,
      "outputs": [
        {
          "name": "stdout",
          "output_type": "stream",
          "text": [
            "Qual o brilho do mineral? \n",
            " 0 - Sedoso \n",
            " 1 - Vítreo \n",
            " 2 - Resinoso \n",
            " 3 - Nacarado \n",
            " 4 - Gorduroso \n",
            " 5 - Terroso \n",
            " 6 - Não tenho certeza \n",
            "3\n"
          ]
        },
        {
          "output_type": "execute_result",
          "data": {
            "text/plain": [
              "[0]"
            ]
          },
          "metadata": {},
          "execution_count": 297
        }
      ]
    },
    {
      "cell_type": "markdown",
      "source": [
        "## **Avaliando Brilho:**"
      ],
      "metadata": {
        "id": "UNPlmfD1ynlG"
      }
    },
    {
      "cell_type": "code",
      "source": [
        "# Se for \"Sedoso\"\n",
        "if brilho02 == 0 and brilho == 0:\n",
        "  amostra.append(0)\n",
        "  diafaneidade = int(input('O mineral é transparente, translúcido ou opaco? \\n 0 - Transparente \\n 1 - Translúcido \\n 2 - Opaco \\n'))\n",
        "\n",
        "# Se for \"Vítreo\"\n",
        "if brilho02 == 1 and brilho == 0:\n",
        "  amostra.append(2-1)\n",
        "  diafaneidade = int(input('O mineral é transparente, translúcido ou opaco? \\n 0 - Transparente \\n 1 - Translúcido \\n 2 - Opaco \\n'))\n",
        "\n",
        "# Se for \"Resinoso\"\n",
        "if brilho02 == 2 and brilho == 0:\n",
        "  amostra.append(3-1)\n",
        "  diafaneidade = int(input('O mineral é transparente, translúcido ou opaco? \\n 0 - Transparente \\n 1 - Translúcido \\n 2 - Opaco \\n'))\n",
        "\n",
        "# Se for \"Nacarado\"\n",
        "if brilho02 == 3 and brilho == 0:\n",
        "  amostra.append(4-1)\n",
        "  diafaneidade = int(input('O mineral é transparente, translúcido ou opaco? \\n 0 - Transparente \\n 1 - Translúcido \\n 2 - Opaco \\n 3 - Não tenho certeza \\n'))\n",
        "\n",
        "# Se for \"Gorduroso\"\n",
        "if brilho02 == 4 and brilho == 0:\n",
        "  amostra.append(5-1)\n",
        "  diafaneidade = int(input('O mineral é transparente, translúcido ou opaco? \\n 0 - Transparente \\n 1 - Translúcido \\n 2 - Opaco \\n 3 - Não tenho certeza \\n'))\n",
        "\n",
        "# Se for \"Terroso\"\n",
        "if brilho02 == 5:\n",
        "  amostra.append(6-1)\n",
        "  diafaneidade = int(input('O mineral é transparente, translúcido ou opaco? \\n 0 - Transparente \\n 1 - Translúcido \\n 2 - Opaco \\n 3 - Não tenho certeza \\n'))\n",
        "\n",
        "amostra"
      ],
      "metadata": {
        "colab": {
          "base_uri": "https://localhost:8080/"
        },
        "id": "HQ7dIr86bGMM",
        "outputId": "1adbaa3f-ce23-4e95-b7c6-dd8796353a5c"
      },
      "execution_count": 298,
      "outputs": [
        {
          "name": "stdout",
          "output_type": "stream",
          "text": [
            "O mineral é transparente, translúcido ou opaco? \n",
            " 0 - Transparente \n",
            " 1 - Translúcido \n",
            " 2 - Opaco \n",
            " 3 - Não tenho certeza \n",
            "1\n"
          ]
        },
        {
          "output_type": "execute_result",
          "data": {
            "text/plain": [
              "[0, 3]"
            ]
          },
          "metadata": {},
          "execution_count": 298
        }
      ]
    },
    {
      "cell_type": "markdown",
      "source": [
        "## **Avaliando Diafaneidade:**"
      ],
      "metadata": {
        "id": "uLmQiSCEfkYA"
      }
    },
    {
      "cell_type": "code",
      "source": [
        "# Se Diafaneidade for \"Transparente\"\n",
        "if diafaneidade == 0 and brilho == 0:\n",
        "  amostra.append(1-1)\n",
        "\n",
        "# Se Diafaneidade for \"Translúcido\"\n",
        "if diafaneidade == 1 and brilho == 0:\n",
        "  amostra.append(2-1)\n",
        "\n",
        "# Se Diafaneidade for \"Opaco\"\n",
        "if diafaneidade == 2:\n",
        "  amostra.append(3-1)\n",
        "  magnetismo = int(input('O mineral é magnético? \\n 0 - Nada magnético \\n 1 - Pouco magnético \\n 2 - Muito magnético \\n 3 - Extremamente magnético \\n 4 - Não tenho certeza \\n'))\n",
        "\n",
        "amostra"
      ],
      "metadata": {
        "colab": {
          "base_uri": "https://localhost:8080/"
        },
        "id": "92UxEtrofRCf",
        "outputId": "dc516d5c-40fd-4d49-c3c9-7f5c3d0382dd"
      },
      "execution_count": 299,
      "outputs": [
        {
          "output_type": "execute_result",
          "data": {
            "text/plain": [
              "[0, 3, 1]"
            ]
          },
          "metadata": {},
          "execution_count": 299
        }
      ]
    },
    {
      "cell_type": "markdown",
      "source": [
        "## **Avaliando Magnetismo:**"
      ],
      "metadata": {
        "id": "OzvOIzCNselE"
      }
    },
    {
      "cell_type": "code",
      "source": [
        "# Se Magnetismo for \"Nada magnético\"\n",
        "if magnetismo == 0:\n",
        "  amostra.append(1-1)\n",
        "\n",
        "# Se Magnetismo for \"Pouco magnético\"\n",
        "if magnetismo == 1:\n",
        "  amostra.append(2-1)\n",
        "\n",
        "# Se Magnetismo for \"Muito magnético\"\n",
        "if magnetismo == 2:\n",
        "  amostra.append(3-1)\n",
        "\n",
        "# Se Magnetismo for \"Extremamente magnético\"\n",
        "if magnetismo == 3:\n",
        "  amostra.append(4-1)"
      ],
      "metadata": {
        "id": "NwsJ-QcThz_7"
      },
      "execution_count": 300,
      "outputs": []
    },
    {
      "cell_type": "markdown",
      "source": [
        "## **Avaliando Cor:**"
      ],
      "metadata": {
        "id": "Fv3n9MlFxg2d"
      }
    },
    {
      "cell_type": "code",
      "source": [
        "cor = int(input('Qual a cor predominante da amostra? \\n 0 - Amarelo \\n 1 - Vermelho \\n 2 - Cinza escuro \\n 3 - Cinza claro \\n 4 - Rosa \\n 5 - Roxo \\n 6 - Laranja \\n 7 - Branco \\n 8 - Preto \\n 9 - Azul escuro \\n 10 - Azul claro \\n 11 - Marrom \\n 12 - Várias \\n'))"
      ],
      "metadata": {
        "colab": {
          "base_uri": "https://localhost:8080/"
        },
        "id": "Rwv8vOYP_PTh",
        "outputId": "82074a06-e66e-497a-c18c-a46edc244238"
      },
      "execution_count": 301,
      "outputs": [
        {
          "name": "stdout",
          "output_type": "stream",
          "text": [
            "Qual a cor predominante da amostra? \n",
            " 0 - Amarelo \n",
            " 1 - Vermelho \n",
            " 2 - Cinza escuro \n",
            " 3 - Cinza claro \n",
            " 4 - Rosa \n",
            " 5 - Roxo \n",
            " 6 - Laranja \n",
            " 7 - Branco \n",
            " 8 - Preto \n",
            " 9 - Azul escuro \n",
            " 10 - Azul claro \n",
            " 11 - Marrom \n",
            " 12 - Várias \n",
            "3\n"
          ]
        }
      ]
    },
    {
      "cell_type": "code",
      "source": [
        "# Se cor for \"Amarelo\"\n",
        "if cor == 0:\n",
        "  amostra.append(1-1)\n",
        "\n",
        "# Se cor for \"Vermelho\"\n",
        "if cor == 1:\n",
        "  amostra.append(2-1)\n",
        "\n",
        "# Se cor for \"Cinza escuro\"\n",
        "if cor == 2:\n",
        "  amostra.append(3-1)\n",
        "\n",
        "# Se cor for \"Cinza claro\"\n",
        "if cor == 3:\n",
        "  amostra.append(4-1)\n",
        "\n",
        "# Se cor for \"Rosa\"\n",
        "if cor == 4:\n",
        "  amostra.append(5-1)\n",
        "\n",
        "# Se cor for \"Roxo\"\n",
        "if cor == 5:\n",
        "  amostra.append(6-1)\n",
        "\n",
        "# Se cor for \"Laranja\"\n",
        "if cor == 6:\n",
        "  amostra.append(7-1)\n",
        "\n",
        "# Se cor for \"Branco\"\n",
        "if cor == 7:\n",
        "  amostra.append(8-1)\n",
        "\n",
        "# Se cor for \"Preto\"\n",
        "if cor == 8:\n",
        "  amostra.append(9-1)\n",
        "\n",
        "# Se cor for \"Azul escuro\"\n",
        "if cor == 9:\n",
        "  amostra.append(10-1)\n",
        "\n",
        "# Se cor for \"Azul claro\"\n",
        "if cor == 10:\n",
        "  amostra.append(11-1)\n",
        "\n",
        "# Se cor for \"Marrom\"\n",
        "if cor == 11:\n",
        "  amostra.append(12-1)\n",
        "\n",
        "# Se cor for \"Várias\"\n",
        "if cor == 12:\n",
        "  amostra.append(3-1)"
      ],
      "metadata": {
        "id": "v1NnJQkbyw9f"
      },
      "execution_count": 302,
      "outputs": []
    },
    {
      "cell_type": "code",
      "source": [
        "print(f'Sua amostra possui as seguintes propriedades: {amostra}')"
      ],
      "metadata": {
        "colab": {
          "base_uri": "https://localhost:8080/"
        },
        "id": "gYJzEr9MhdVv",
        "outputId": "73fa55ca-b372-48bd-e524-0eb4506f0b0b"
      },
      "execution_count": 303,
      "outputs": [
        {
          "output_type": "stream",
          "name": "stdout",
          "text": [
            "Sua amostra possui as seguintes propriedades: [0, 3, 1, 2, 3]\n"
          ]
        }
      ]
    },
    {
      "cell_type": "markdown",
      "source": [
        "## **Avaliando Hábito:**"
      ],
      "metadata": {
        "id": "Fx_oFiGvr9a6"
      }
    },
    {
      "cell_type": "code",
      "source": [
        "habito = int(input('Qual o hábito desse mineral? \\n 0 - Acicular \\n 1 - Coralóide \\n 2 - Colunar \\n 3 - Arborescente \\n 4 - Asbestiforme \\n 5 - Drusa \\n 6 - Concêntrico \\n 7 - Bloco \\n 8 - Colofórmio \\n 9 - Concretizado \\n 10 - Criptocristalino \\n 11 - Dentrico \\n 12 - Divergente \\n 13 - Globular \\n 14 - Granular \\n 15 - Fibroso \\n 16 - Geodo \\n 17 - Lamelar \\n 18 - Laminado \\n 19 - Amorfo \\n 20 - Prismático \\n 21 - Em pó \\n 22 - Micáceo \\n 23 - Pisolítico \\n 24 - Reticulado \\n 25 - Uniforme \\n'))"
      ],
      "metadata": {
        "colab": {
          "base_uri": "https://localhost:8080/"
        },
        "id": "Km1WKQPb-TVj",
        "outputId": "3c8f88e7-a204-4659-bed0-d8a1a3248806"
      },
      "execution_count": 304,
      "outputs": [
        {
          "name": "stdout",
          "output_type": "stream",
          "text": [
            "Qual o hábito desse mineral? \n",
            " 0 - Acicular \n",
            " 1 - Coralóide \n",
            " 2 - Colunar \n",
            " 3 - Arborescente \n",
            " 4 - Asbestiforme \n",
            " 5 - Drusa \n",
            " 6 - Concêntrico \n",
            " 7 - Bloco \n",
            " 8 - Colofórmio \n",
            " 9 - Concretizado \n",
            " 10 - Criptocristalino \n",
            " 11 - Dentrico \n",
            " 12 - Divergente \n",
            " 13 - Globular \n",
            " 14 - Granular \n",
            " 15 - Fibroso \n",
            " 16 - Geodo \n",
            " 17 - Lamelar \n",
            " 18 - Laminado \n",
            " 19 - Amorfo \n",
            " 20 - Prismático \n",
            " 21 - Em pó \n",
            " 22 - Micáceo \n",
            " 23 - Pisolítico \n",
            " 24 - Reticulado \n",
            " 25 - Uniforme \n",
            "17\n"
          ]
        }
      ]
    },
    {
      "cell_type": "code",
      "source": [
        "# Se Hábito for \"Acicular\"\n",
        "if habito == 0:\n",
        "  amostra.append(1-1)\n",
        "\n",
        "# Se Hábito for \"Coralóide\"\n",
        "if habito == 1:\n",
        "  amostra.append(2-1)\n",
        "\n",
        "# Se Hábito for \"Colunar\"\n",
        "if habito == 2:\n",
        "  amostra.append(3-1)\n",
        "\n",
        "# Se Hábito for \"Arborescente\"\n",
        "if habito == 3:\n",
        "  amostra.append(4-1)\n",
        "\n",
        "# Se Hábito for \"Asbestiforme\"\n",
        "if habito == 4:\n",
        "  amostra.append(5-1)\n",
        "\n",
        "# Se Hábito for \"Drusa\"\n",
        "if habito == 5:\n",
        "  amostra.append(6-1)\n",
        "\n",
        "# Se Hábito for \"Concêntrico\"\n",
        "if habito == 6:\n",
        "  amostra.append(7-1)\n",
        "\n",
        "# Se Hábito for \"Bloco\"\n",
        "if habito == 7:\n",
        "  amostra.append(8-1)\n",
        "\n",
        "# Se Hábito for \"Colofórmio\"\n",
        "if habito == 8:\n",
        "  amostra.append(9-1)\n",
        "\n",
        "# Se Hábito for \"Concretizado\"\n",
        "if habito == 9:\n",
        "  amostra.append(10-1)\n",
        "\n",
        "# Se Hábito for \"Criptocristalino\"\n",
        "if habito == 10:\n",
        "  amostra.append(11-1)\n",
        "\n",
        "# Se Hábito for \"Dentrico\"\n",
        "if habito == 11:\n",
        "  amostra.append(12-1)\n",
        "\n",
        "# Se Hábito for \"Convergente\"\n",
        "if habito == 12:\n",
        "  amostra.append(13-1)\n",
        "  \n",
        "# Se Hábito for \"Globular\"\n",
        "if habito == 13:\n",
        "  amostra.append(14-1)\n",
        "\n",
        "# Se Hábito for \"Fibroso\"\n",
        "if habito == 14:\n",
        "  amostra.append(15-1)\n",
        "\n",
        "# Se Hábito for \"Geodo\"\n",
        "if habito == 15:\n",
        "  amostra.append(16-1)\n",
        "\n",
        "# Se Hábito for \"Lamelar\"\n",
        "if habito == 16:\n",
        "  amostra.append(17-1)\n",
        "\n",
        "# Se Hábito for \"Laminar\"\n",
        "if habito == 17:\n",
        "  amostra.append(18-1)\n",
        "\n",
        "# Se Hábito for \"Amorfo\"\n",
        "if habito == 18:\n",
        "  amostra.append(19-1)\n",
        "\n",
        "# Se Hábito for \"Prismático\"\n",
        "if habito == 19:\n",
        "  amostra.append(20-1)\n",
        "\n",
        "# Se Hábito for \"Em pó\"\n",
        "if habito == 20:\n",
        "  amostra.append(21-1)\n",
        "\n",
        "# Se Hábito for \"Micáceo\"\n",
        "if habito == 21:\n",
        "  amostra.append(22-1)\n",
        "\n",
        "# Se Hábito for \"Pisolítico\"\n",
        "if habito == 22:\n",
        "  amostra.append(23-1)\n",
        "\n",
        "# Se Hábito for \"Reticulado\"\n",
        "if habito == 23:\n",
        "  amostra.append(24-1)\n",
        "\n",
        "# Se Hábito for \"Uniforme\"\n",
        "if habito == 24:\n",
        "  amostra.append(25-1)\n",
        "\n",
        "amostra"
      ],
      "metadata": {
        "colab": {
          "base_uri": "https://localhost:8080/"
        },
        "id": "7ERHPeB8kMhP",
        "outputId": "ee3c833c-5e0f-4cc1-d440-370f2d574a80"
      },
      "execution_count": 305,
      "outputs": [
        {
          "output_type": "execute_result",
          "data": {
            "text/plain": [
              "[0, 3, 1, 2, 3, 17]"
            ]
          },
          "metadata": {},
          "execution_count": 305
        }
      ]
    },
    {
      "cell_type": "markdown",
      "source": [
        "# **Comparando características e avaliando as possibilidades:**"
      ],
      "metadata": {
        "id": "MEmtGTTfeeiW"
      }
    },
    {
      "cell_type": "code",
      "source": [
        "lista = []\n",
        "\n",
        "for i in range (0, len(minerais)):\n",
        "  if amostra == minerais_props[i]:\n",
        "    lista.append(minerais_name[i])\n",
        "    print(f'O mineral pode ser {minerais_name[i]}')\n",
        "\n",
        "lista"
      ],
      "metadata": {
        "colab": {
          "base_uri": "https://localhost:8080/"
        },
        "id": "Re0VSPcjomhA",
        "outputId": "64f69d6f-c991-4b2f-ec40-a6d639f9aa0c"
      },
      "execution_count": 306,
      "outputs": [
        {
          "output_type": "execute_result",
          "data": {
            "text/plain": [
              "[]"
            ]
          },
          "metadata": {},
          "execution_count": 306
        }
      ]
    }
  ]
}