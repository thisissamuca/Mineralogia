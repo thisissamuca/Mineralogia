{
  "nbformat": 4,
  "nbformat_minor": 0,
  "metadata": {
    "colab": {
      "name": "Mineralogia.ipynb",
      "provenance": [],
      "authorship_tag": "ABX9TyNP5P2nds9yBGdAzmeyUazD",
      "include_colab_link": true
    },
    "kernelspec": {
      "name": "python3",
      "display_name": "Python 3"
    },
    "language_info": {
      "name": "python"
    }
  },
  "cells": [
    {
      "cell_type": "markdown",
      "metadata": {
        "id": "view-in-github",
        "colab_type": "text"
      },
      "source": [
        "<a href=\"https://colab.research.google.com/github/thisissamuca/Mineralogia/blob/main/Mineralogia.ipynb\" target=\"_parent\"><img src=\"https://colab.research.google.com/assets/colab-badge.svg\" alt=\"Open In Colab\"/></a>"
      ]
    },
    {
      "cell_type": "markdown",
      "source": [
        "Cor\n",
        "\n",
        "1.   Item da lista\n",
        "2.   Item da lista\n",
        "\n",
        "\n",
        "Cor do traço\n",
        "\n",
        "1.   Item da lista\n",
        "2.   Item da lista\n",
        "\n",
        "\n",
        "Brilho\n",
        "\n",
        "1.   O mineral possui um brilho semelhante a seda?\n",
        "2.   Item da lista\n",
        "\n",
        "\n",
        "Dureza\n",
        "\n",
        "1.   O mineral é capaz de riscar a unha?\n",
        "2.   O mineral é capaz de riscar um canivete ou uma lâmina comum?\n",
        "3.   O mineral é capaz de riscar uma placa de cerâmica?\n",
        "4.   O mineral é capaz de riscar um Topázio?\n",
        "\n",
        "Fratura\n",
        "\n",
        "1.   Item da lista\n",
        "2.   Item da lista\n",
        "\n",
        "Sistema Cristalino\n",
        "\n",
        "1.   Item da lista\n",
        "2.   Item da lista\n",
        "\n",
        "Hábito\n",
        "\n",
        "1.   O mineral apresenta grãos em sua composição?\n",
        "2.   O mineral aparenta uma árvore?\n",
        "3.   O mineral forma lâminas?\n",
        "4.   O mineral apresenta fibras como no amianto?\n",
        "5.   O mineral possui arestas bem definidas?\n",
        "6.   O mineral possui uma estrutura uniforme?\n",
        "7.   O mineral apresenta camadas nítidas?\n",
        "\n",
        "Clivagem\n",
        "\n",
        "Geminação\n",
        "\n",
        "Densidade\n",
        "\n",
        "Sabor\n",
        "\n",
        "Magnetismo"
      ],
      "metadata": {
        "id": "IOhixsp2NbUQ"
      }
    },
    {
      "cell_type": "markdown",
      "source": [
        ""
      ],
      "metadata": {
        "id": "jxsYro6umOcc"
      }
    },
    {
      "cell_type": "markdown",
      "source": [
        "Lista de minerais conhecidos:\n",
        "\n"
      ],
      "metadata": {
        "id": "DYB9oCHPU-Od"
      }
    },
    {
      "cell_type": "markdown",
      "source": [
        "# **Importando bibliotecas e criando arrays**"
      ],
      "metadata": {
        "id": "N1lCkxIdmKVQ"
      }
    },
    {
      "cell_type": "code",
      "execution_count": 2,
      "metadata": {
        "id": "7voOFUzOMytD"
      },
      "outputs": [],
      "source": [
        "grupo = []\n",
        "classe = []\n",
        "subgrupo = []"
      ]
    },
    {
      "cell_type": "code",
      "source": [
        "# Calcita\n",
        "calcita = [('Calcita', [0,3]), ('Calcita', [0,2])]\n",
        "\n",
        "# hematita\n",
        "hematita = [('Hematita', [1])]\n",
        "\n",
        "# gipsita\n",
        "gipsita = [('Gipsita', [0,3]), ('Gipsita', [0,1])]\n",
        "\n",
        "# granada\n",
        "granada = [('Granada', [0,3]), ('Granada', [0,2])]\n",
        "\n",
        "# galena\n",
        "galena = [('Galena', [1])]\n",
        "\n",
        "# halita\n",
        "halita = [('Galita', [0,1])]\n",
        "\n",
        "# albita\n",
        "albita = [('Albita', [0,2]), ('Albita', [0,1])]\n",
        "\n",
        "# apatita\n",
        "apatita = [('Apatita', [0,2]), ('Apatita', [0,1])]\n",
        "\n",
        "# turmalina\n",
        "turmalina = [('Turmalina', [0,2]), ('Turmalina', [0,1])]\n",
        "\n",
        "# barita\n",
        "barita = [('Barita', [0,3]), ('Barita', [0,2]), ('Barita', [0,1])]\n",
        "\n",
        "# cobre\n",
        "cobre = [('Cobre', [1])]\n",
        "\n",
        "# prata\n",
        "prata = [('Prata', [1])]\n",
        "\n",
        "# epidoto\n",
        "epidoto = [('Epidoto', [0,3]), ('Epidoto', [0,2]), ('Epidoto', [0,1])]\n",
        "\n",
        "# goethita\n",
        "goethita = [('Goethita', [0,5]), ('Goethita', [0,3]), ('Goethita', [0,2]), ('Goethita', [1])]\n",
        "\n",
        "# magnetita\n",
        "magnetita = [('Magnetita', [1])]\n",
        "\n",
        "# mica\n",
        "mica = [('Mica', [0,3]), ('Mica', [0,2])]\n",
        "\n",
        "# ouro\n",
        "ouro = [('Ouro', [1])]\n",
        "\n",
        "# pirita\n",
        "pirita = [('Pirita', [1])]\n",
        "\n",
        "# quartzo\n",
        "quartzo = [('Quartzo', [0,2])]\n",
        "\n",
        "# serpentina\n",
        "serpentina = [('Serpentina', [0,0]), ('Serpentina', [0,4])]\n",
        "\n",
        "# siderita\n",
        "siderita = [('Siderita', [0,3]), ('Siderita', [0,2]), ('Siderita', [0,1])]\n",
        "\n",
        "# talco\n",
        "talco = [('Talco', [0,4])]"
      ],
      "metadata": {
        "id": "BNhcmufRmVbN"
      },
      "execution_count": 40,
      "outputs": []
    },
    {
      "cell_type": "code",
      "source": [
        "minerais = [calcita,hematita,gipsita,granada,galena,halita,albita,apatita,turmalina,barita,cobre,prata,epidoto,goethita,magnetita,mica,ouro,pirita,quartzo,serpentina,siderita,talco]\n",
        "minerais.sort()\n",
        "minerais"
      ],
      "metadata": {
        "colab": {
          "base_uri": "https://localhost:8080/"
        },
        "id": "RTqXR_CaYfNb",
        "outputId": "2df146ba-b93c-4499-e695-661e5d81f5b6"
      },
      "execution_count": 97,
      "outputs": [
        {
          "output_type": "execute_result",
          "data": {
            "text/plain": [
              "[[('Albita', [0, 2]), ('Albita', [0, 1])],\n",
              " [('Apatita', [0, 2]), ('Apatita', [0, 1])],\n",
              " [('Barita', [0, 3]), ('Barita', [0, 2]), ('Barita', [0, 1])],\n",
              " [('Calcita', [0, 3]), ('Calcita', [0, 2])],\n",
              " [('Cobre', [1])],\n",
              " [('Epidoto', [0, 3]), ('Epidoto', [0, 2]), ('Epidoto', [0, 1])],\n",
              " [('Galena', [1])],\n",
              " [('Galita', [0, 1])],\n",
              " [('Gipsita', [0, 3]), ('Gipsita', [0, 1])],\n",
              " [('Goethita', [0, 5]),\n",
              "  ('Goethita', [0, 3]),\n",
              "  ('Goethita', [0, 2]),\n",
              "  ('Goethita', [1])],\n",
              " [('Granada', [0, 3]), ('Granada', [0, 2])],\n",
              " [('Hematita', [1])],\n",
              " [('Magnetita', [1])],\n",
              " [('Mica', [0, 3]), ('Mica', [0, 2])],\n",
              " [('Ouro', [1])],\n",
              " [('Pirita', [1])],\n",
              " [('Prata', [1])],\n",
              " [('Quartzo', [0, 2])],\n",
              " [('Serpentina', [0, 0]), ('Serpentina', [0, 4])],\n",
              " [('Siderita', [0, 3]), ('Siderita', [0, 2]), ('Siderita', [0, 1])],\n",
              " [('Talco', [0, 4])],\n",
              " [('Turmalina', [0, 2]), ('Turmalina', [0, 1])]]"
            ]
          },
          "metadata": {},
          "execution_count": 97
        }
      ]
    },
    {
      "cell_type": "code",
      "source": [
        "minerais_name = [calcita[0][0], calcita[1][0],  hematita[0][0],  gipsita[0][0],    gipsita[1][0],   talco[0][0],\n",
        "                granada[0][0],  granada[1][0],  galena[0][0],    halita[0][0],     albita[0][0],    albita[1][0],\n",
        "                apatita[0][0],  apatita[1][0],  turmalina[0][0], turmalina[1][0],  barita[0][0],    barita[1][0], \n",
        "                barita[2][0],   cobre[0][0],    prata[0][0],     epidoto[0][0],    epidoto[1][0],   epidoto[2][0],\n",
        "                goethita[0][0], goethita[1][0], goethita[2][0],  goethita[3][0],   magnetita[0][0], mica[0][0], \n",
        "                ouro[0][0],     pirita[0][0],   quartzo[0][0],   serpentina[0][0], serpentina[1][0], \n",
        "                siderita[0][0], siderita[1][0], siderita[2][0]]\n",
        "\n",
        "minerais_props = [calcita[0][1],  calcita[1][1],  hematita[0][1],  gipsita[0][1],    gipsita[1][1],   talco[0][1],\n",
        "                  granada[0][1],  granada[1][1],  galena[0][1],    halita[0][1],     albita[0][1],    albita[1][1], \n",
        "                  apatita[0][1],  apatita[1][1],  turmalina[0][1], turmalina[1][1],  barita[0][1],    barita[1][1], \n",
        "                  barita[2][1],   cobre[0][1],    prata[0][1],     epidoto[0][1],    epidoto[1][1],   epidoto[2][1],\n",
        "                  goethita[0][1], goethita[1][1], goethita[2][1],  goethita[3][1],   magnetita[0][1], mica[0][1], \n",
        "                  ouro[0][1],     pirita[0][1],   quartzo[0][1],   serpentina[0][1], serpentina[1][1],\n",
        "                  siderita[0][1], siderita[1][1], siderita[2][1]]"
      ],
      "metadata": {
        "id": "057Wmi_emb20"
      },
      "execution_count": 82,
      "outputs": []
    },
    {
      "cell_type": "markdown",
      "source": [
        "# **Definindo brilho metálico ou não-metálico:**"
      ],
      "metadata": {
        "id": "zQfraPnRpmth"
      }
    },
    {
      "cell_type": "code",
      "source": [
        "amostra = []\n",
        "amostra.clear()\n",
        "\n",
        "brilho01 = int(input('O mineral possui brilho metálico? \\n 0 - Não \\n 1 - Sim \\n 2 - Não tenho certeza \\n'))"
      ],
      "metadata": {
        "colab": {
          "base_uri": "https://localhost:8080/"
        },
        "id": "bYodr2DDplYS",
        "outputId": "935159eb-b1b4-4389-c367-f92ef7ef11ac"
      },
      "execution_count": 87,
      "outputs": [
        {
          "name": "stdout",
          "output_type": "stream",
          "text": [
            "O mineral possui brilho metálico? \n",
            " 0 - Não \n",
            " 1 - Sim \n",
            " 2 - Não tenho certeza \n",
            "1\n"
          ]
        }
      ]
    },
    {
      "cell_type": "markdown",
      "source": [
        "# **Definindo tipo de brilho (caso seja não-metálico)**"
      ],
      "metadata": {
        "id": "H-_OxJxmXbOI"
      }
    },
    {
      "cell_type": "code",
      "source": [
        "if brilho01 == 0:\n",
        "  amostra.append(0)\n",
        "\n",
        "  brilho02 = int(input('Qual o brilho do mineral? \\n 0 - Sedoso \\n 1 - Vítreo \\n 2 - Resinoso \\n 3 - Nacarado \\n 4 - Gorduroso \\n 5 - Terroso \\n 6 - Não tenho certeza \\n'))\n",
        "  if brilho02 == 0:\n",
        "    amostra.append(0)\n",
        "\n",
        "  if brilho02 == 1:\n",
        "    amostra.append(1-1)\n",
        "\n",
        "  if brilho02 == 2:\n",
        "    amostra.append(3-1)\n",
        "    \n",
        "  if brilho02 == 3:\n",
        "    amostra.append(4-1)\n",
        "    \n",
        "  if brilho02 == 4:\n",
        "    amostra.append(4-1)\n",
        "    \n",
        "  if brilho02 == 5:\n",
        "    amostra.append(5-1)\n",
        "    \n",
        "  if brilho02 == 6:\n",
        "    amostra.append(6-1)\n",
        "    "
      ],
      "metadata": {
        "id": "ZXzJXjVhmIr-"
      },
      "execution_count": 88,
      "outputs": []
    },
    {
      "cell_type": "code",
      "source": [
        "if brilho01 == 1:\n",
        "  amostra.append(1)\n",
        "  \n",
        "amostra"
      ],
      "metadata": {
        "colab": {
          "base_uri": "https://localhost:8080/"
        },
        "id": "euqAKiUypuUR",
        "outputId": "8b651cc5-f9d7-4cbe-c2f1-3f872820f603"
      },
      "execution_count": 90,
      "outputs": [
        {
          "output_type": "execute_result",
          "data": {
            "text/plain": [
              "[1]"
            ]
          },
          "metadata": {},
          "execution_count": 90
        }
      ]
    },
    {
      "cell_type": "code",
      "source": [
        "lista = []\n",
        "\n",
        "for i in range (0, len(minerais)):\n",
        "  if amostra == minerais_props[i]:\n",
        "    lista.append(minerais_name[i])\n",
        "    print(f'O mineral pode ser {minerais_name[i]}')\n",
        "\n",
        "lista"
      ],
      "metadata": {
        "colab": {
          "base_uri": "https://localhost:8080/"
        },
        "id": "Re0VSPcjomhA",
        "outputId": "eac25528-2737-4f42-9cfd-9d8bcea9b6eb"
      },
      "execution_count": 93,
      "outputs": [
        {
          "output_type": "stream",
          "name": "stdout",
          "text": [
            "O mineral pode ser Hematita\n",
            "O mineral pode ser Galena\n",
            "O mineral pode ser Cobre\n",
            "O mineral pode ser Prata\n"
          ]
        },
        {
          "output_type": "execute_result",
          "data": {
            "text/plain": [
              "['Hematita', 'Galena', 'Cobre', 'Prata']"
            ]
          },
          "metadata": {},
          "execution_count": 93
        }
      ]
    },
    {
      "cell_type": "code",
      "source": [
        ""
      ],
      "metadata": {
        "id": "NOFkiCH_1Hwh"
      },
      "execution_count": null,
      "outputs": []
    }
  ]
}